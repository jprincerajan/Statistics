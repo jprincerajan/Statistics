{
 "cells": [
  {
   "cell_type": "code",
   "execution_count": 21,
   "id": "514589c9",
   "metadata": {},
   "outputs": [],
   "source": [
    "import numpy as np\n",
    "import matplotlib.pyplot as plt\n",
    "from scipy.stats import shapiro\n",
    "from scipy import stats"
   ]
  },
  {
   "cell_type": "markdown",
   "id": "1b0afbbc",
   "metadata": {},
   "source": [
    "# Checking Normality and 95% confidence level"
   ]
  },
  {
   "cell_type": "code",
   "execution_count": 2,
   "id": "2a400769",
   "metadata": {},
   "outputs": [],
   "source": [
    "consumption_data = [120,150,100, 200, 130, 170, 180, 110, 90, 160, 140, 210, 190, 170, 130, 120, 140, 110, 150, 180, 200, 170, 160, 140, 130, 120, 150, 140, 160, 150]"
   ]
  },
  {
   "cell_type": "code",
   "execution_count": 7,
   "id": "f589d548",
   "metadata": {},
   "outputs": [
    {
     "name": "stdout",
     "output_type": "stream",
     "text": [
      "<class 'list'>\n"
     ]
    }
   ],
   "source": [
    "print (type(consumption_data))"
   ]
  },
  {
   "cell_type": "code",
   "execution_count": 16,
   "id": "f9a0e7af",
   "metadata": {},
   "outputs": [
    {
     "data": {
      "image/png": "[encoded data removed]",
      "text/plain": [
       "<Figure size 432x288 with 1 Axes>"
      ]
     },
     "metadata": {
      "needs_background": "light"
     },
     "output_type": "display_data"
    }
   ],
   "source": [
    "# Visually checking the normal distributrion\n",
    "plt.hist(consumption_data, edgecolor='black', bins=20)\n",
    "plt.show()"
   ]
  },
  {
   "cell_type": "markdown",
   "id": "d301ba24",
   "metadata": {},
   "source": [
    "The Shapiro-Wilk test evaluates whether a dataset follows a normal distribution. Here’s how it works:\n",
    "\n",
    "Quantifying Similarity:\n",
    "The test superimposes a normal curve over the observed distribution.\n",
    "It computes the percentage of our sample that overlaps with this curve (a similarity percentage).\n",
    "Hypothesis Testing:\n",
    "The null hypothesis assumes the population distribution is exactly normal.\n",
    "The test calculates the probability of finding the observed (or a smaller) similarity percentage.\n",
    "If the p-value is small (typically < 0.05), we reject the null hypothesis, indicating non-normality."
   ]
  },
  {
   "cell_type": "code",
   "execution_count": 18,
   "id": "70a07198",
   "metadata": {},
   "outputs": [
    {
     "name": "stdout",
     "output_type": "stream",
     "text": [
      "Shapiro-Wilk p-value: 0.873916\n"
     ]
    }
   ],
   "source": [
    "#The Shapiro-Wilk test checks for normality. If the p-value is greater than 0.05, the data is assumed to be normally distributed.\n",
    "shapiro_result = shapiro(consumption_data)\n",
    "print(f\"Shapiro-Wilk p-value: {shapiro_result.pvalue:.6f}\")"
   ]
  },
  {
   "cell_type": "code",
   "execution_count": 10,
   "id": "718f6d24",
   "metadata": {},
   "outputs": [],
   "source": [
    "lower_bound = np.percentile(consumption_data, 2.5)"
   ]
  },
  {
   "cell_type": "code",
   "execution_count": 11,
   "id": "b3d4b937",
   "metadata": {},
   "outputs": [],
   "source": [
    "upper_bound = np.percentile(consumption_data, 97.5)"
   ]
  },
  {
   "cell_type": "code",
   "execution_count": 13,
   "id": "2d7e96b2",
   "metadata": {},
   "outputs": [
    {
     "name": "stdout",
     "output_type": "stream",
     "text": [
      "The 2.5th percentile of material consumption is : 97.25\n",
      "the 97.5th percentile of material consumtion is : 202.75\n"
     ]
    }
   ],
   "source": [
    "print (f\"The 2.5th percentile of material consumption is : {lower_bound}\")\n",
    "print (f\"the 97.5th percentile of material consumtion is : {upper_bound}\")"
   ]
  },
  {
   "cell_type": "markdown",
   "id": "487ffd1f",
   "metadata": {},
   "source": [
    "# Checking if drug had effect or not"
   ]
  },
  {
   "cell_type": "code",
   "execution_count": 22,
   "id": "ea0681e5",
   "metadata": {},
   "outputs": [],
   "source": [
    "Before_treatment = np.array([1.2,1.4,1.3,1.5,1.6, 1.3,1.5,1.4,1.2,1.6])"
   ]
  },
  {
   "cell_type": "code",
   "execution_count": 55,
   "id": "2843ea48",
   "metadata": {},
   "outputs": [],
   "source": [
    "After_treatment = np.array([1.5,1.6,1.4,1.7,1.8, 1.5,1.7,1.6,1.4,1.8])\n"
   ]
  },
  {
   "cell_type": "code",
   "execution_count": 56,
   "id": "b5510231",
   "metadata": {},
   "outputs": [],
   "source": [
    "t_statistic, p_value = stats.ttest_rel(After_treatment,Before_treatment)"
   ]
  },
  {
   "cell_type": "code",
   "execution_count": 57,
   "id": "9978c656",
   "metadata": {},
   "outputs": [],
   "source": [
    "alpha = 0.05"
   ]
  },
  {
   "cell_type": "code",
   "execution_count": 58,
   "id": "0c7d0964",
   "metadata": {},
   "outputs": [
    {
     "name": "stdout",
     "output_type": "stream",
     "text": [
      "t-statistic : 13.416407864998725\n",
      " p_value : 2.960951566363271e-07\n"
     ]
    }
   ],
   "source": [
    "print(f\"t-statistic : {t_statistic}\")\n",
    "print(f\" p_value : {p_value}\")"
   ]
  },
  {
   "cell_type": "code",
   "execution_count": 59,
   "id": "84b44c89",
   "metadata": {},
   "outputs": [
    {
     "name": "stdout",
     "output_type": "stream",
     "text": [
      "Reject Null hypothesis\n"
     ]
    }
   ],
   "source": [
    "if p_value < alpha:\n",
    "    print(\"Reject Null hypothesis\")\n",
    "else:\n",
    "    print(\"Accept Null hypothesis\")"
   ]
  },
  {
   "cell_type": "markdown",
   "id": "0d92284e",
   "metadata": {},
   "source": [
    "# Check 2 distributions are similar or different"
   ]
  },
  {
   "cell_type": "markdown",
   "id": "89ded9f6",
   "metadata": {},
   "source": [
    " Hypothesis Testing using T-Test "
   ]
  },
  {
   "cell_type": "markdown",
   "id": "a6095a02",
   "metadata": {},
   "source": [
    "statistical test is used to determine if the differences between distributions are significant. If the data is normally distributed, we can use an independent 2 sample t-test I"
   ]
  },
  {
   "cell_type": "code",
   "execution_count": 61,
   "id": "1bbed4c5",
   "metadata": {},
   "outputs": [],
   "source": [
    "t_statistic1, p_value1 = stats.ttest_ind(After_treatment,Before_treatment)"
   ]
  },
  {
   "cell_type": "code",
   "execution_count": 62,
   "id": "b1db2459",
   "metadata": {},
   "outputs": [
    {
     "name": "stdout",
     "output_type": "stream",
     "text": [
      "t-statistic : 3.000000000000002\n",
      " p_value : 0.00768541214031427\n"
     ]
    }
   ],
   "source": [
    "print(f\"t-statistic : {t_statistic1}\")\n",
    "print(f\" p_value : {p_value1}\")"
   ]
  },
  {
   "cell_type": "code",
   "execution_count": 63,
   "id": "336e4abb",
   "metadata": {},
   "outputs": [
    {
     "name": "stdout",
     "output_type": "stream",
     "text": [
      "Reject Null hypothesis\n"
     ]
    }
   ],
   "source": [
    "if p_value1 < alpha:\n",
    "    print(\"Reject Null hypothesis. Distribution are significantly different\")\n",
    "else:\n",
    "    print(\"Accept Null hypothesis. Distributions are not significantly different\")"
   ]
  },
  {
   "cell_type": "code",
   "execution_count": 64,
   "id": "81d0777e",
   "metadata": {},
   "outputs": [],
   "source": [
    "from scipy.stats import ks_2samp"
   ]
  },
  {
   "cell_type": "code",
   "execution_count": 65,
   "id": "3d042409",
   "metadata": {},
   "outputs": [],
   "source": [
    "ks_statistic, p_value2 = ks_2samp(After_treatment,Before_treatment)"
   ]
  },
  {
   "cell_type": "code",
   "execution_count": 66,
   "id": "3aef3577",
   "metadata": {},
   "outputs": [
    {
     "name": "stdout",
     "output_type": "stream",
     "text": [
      "ks_statistic : 3.000000000000002\n",
      " p_value2 : 0.41752365281777043\n"
     ]
    }
   ],
   "source": [
    "print(f\"ks_statistic : {t_statistic1}\")\n",
    "print(f\" p_value2 : {p_value2}\")"
   ]
  },
  {
   "cell_type": "code",
   "execution_count": 67,
   "id": "2310004e",
   "metadata": {},
   "outputs": [
    {
     "name": "stdout",
     "output_type": "stream",
     "text": [
      "Accept Null hypothesis. Distributions are not significantly different\n"
     ]
    }
   ],
   "source": [
    "if p_value2 < alpha:\n",
    "    print(\"Reject Null hypothesis. Distribution are significantly different\")\n",
    "else:\n",
    "    print(\"Accept Null hypothesis. Distributions are not significantly different\")"
   ]
  },
  {
   "cell_type": "markdown",
   "id": "6385b222",
   "metadata": {},
   "source": [
    "#T-Test (Student’s T-Test):\n",
    "Purpose: Compares means of two groups (e.g., treatment vs. control).\n",
    "Null Hypothesis (H₀): The means of the two groups are equal.\n",
    "Conclusion: If p-value < 0.05, we reject H₀, suggesting a significant difference in means.\n",
    "\n",
    "Kolmogorov-Smirnov (KS) Test:\n",
    "Purpose: Compares the entire distributions of two samples.\n",
    "Null Hypothesis (H₀): The two samples come from the same distribution.\n",
    "Conclusion: If p-value < 0.05, we reject H₀, indicating different distributions.\n",
    "\n",
    "So, T-test focuses on means, while KS test looks at overall distribution shapes"
   ]
  }
 ],
 "metadata": {
  "kernelspec": {
   "display_name": "Python 3 (ipykernel)",
   "language": "python",
   "name": "python3"
  },
  "language_info": {
   "codemirror_mode": {
    "name": "ipython",
    "version": 3
   },
   "file_extension": ".py",
   "mimetype": "text/x-python",
   "name": "python",
   "nbconvert_exporter": "python",
   "pygments_lexer": "ipython3",
   "version": "3.9.12"
  }
 },
 "nbformat": 4,
 "nbformat_minor": 5
}
